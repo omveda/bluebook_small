{
 "cells": [
  {
   "cell_type": "code",
   "execution_count": 1,
   "metadata": {},
   "outputs": [
    {
     "data": {
      "text/plain": [
       "{'status': 'ok ver1.1'}"
      ]
     },
     "execution_count": 1,
     "metadata": {},
     "output_type": "execute_result"
    }
   ],
   "source": [
    "import requests\n",
    "import json\n",
    "response = requests.get('http://db-binding-rest.vstestt2.svc.cluster.local:8080')\n",
    "response.json()"
   ]
  },
  {
   "cell_type": "code",
   "execution_count": 2,
   "metadata": {},
   "outputs": [],
   "source": [
    "import requests\n",
    "import json\n",
    "response = requests.post('http://db-binding-rest.vstestt2.svc.cluster.local:8080/dbbind', '{\"data\":\"teststring\"}')\n",
    "jresponse = response.json()"
   ]
  },
  {
   "cell_type": "code",
   "execution_count": 3,
   "metadata": {},
   "outputs": [
    {
     "name": "stdout",
     "output_type": "stream",
     "text": [
      "Collecting psycopg2\n",
      "  Downloading psycopg2-2.9.3.tar.gz (380 kB)\n",
      "     |████████████████████████████████| 380 kB 29.7 MB/s            \n",
      "\u001b[?25h  Preparing metadata (setup.py) ... \u001b[?25ldone\n",
      "\u001b[?25hBuilding wheels for collected packages: psycopg2\n",
      "  Building wheel for psycopg2 (setup.py) ... \u001b[?25ldone\n",
      "\u001b[?25h  Created wheel for psycopg2: filename=psycopg2-2.9.3-cp38-cp38-linux_x86_64.whl size=554153 sha256=da758bf8302b0e8cd83ed32f0647fbf04cd09b56589aaeb28aa3bb4af743d9a4\n",
      "  Stored in directory: /tmp/pip-ephem-wheel-cache-0yn0chz6/wheels/f3/dc/e2/b8e0e2142eff7fd680295ecd2d92e3bfbb90195523e43da161\n",
      "Successfully built psycopg2\n",
      "Installing collected packages: psycopg2\n",
      "Successfully installed psycopg2-2.9.3\n"
     ]
    }
   ],
   "source": [
    "!pip install psycopg2"
   ]
  },
  {
   "cell_type": "code",
   "execution_count": 4,
   "metadata": {},
   "outputs": [
    {
     "name": "stdout",
     "output_type": "stream",
     "text": [
      "<connection object at 0x7f4e10099040; dsn: 'user=postgres password=xxx dbname=postgres host=p.ijkdpdsaqzhgzeleiv4ousk5hi.db.postgresbridge.com port=5432', closed: 0>\n"
     ]
    }
   ],
   "source": [
    "import psycopg2\n",
    "import psycopg2.errorcodes\n",
    "import time\n",
    "import logging\n",
    "import random\n",
    "db_connection = psycopg2.connect(database=jresponse['database'], \\\n",
    "    user=jresponse['user'], \\\n",
    "    password=jresponse['password'], \\\n",
    "    host=jresponse['host'], \\\n",
    "    port=jresponse['port'])\n",
    "print(db_connection)"
   ]
  },
  {
   "cell_type": "code",
   "execution_count": 6,
   "metadata": {},
   "outputs": [
    {
     "data": {
      "text/html": [
       "<div>\n",
       "<style scoped>\n",
       "    .dataframe tbody tr th:only-of-type {\n",
       "        vertical-align: middle;\n",
       "    }\n",
       "\n",
       "    .dataframe tbody tr th {\n",
       "        vertical-align: top;\n",
       "    }\n",
       "\n",
       "    .dataframe thead th {\n",
       "        text-align: right;\n",
       "    }\n",
       "</style>\n",
       "<table border=\"1\" class=\"dataframe\">\n",
       "  <thead>\n",
       "    <tr style=\"text-align: right;\">\n",
       "      <th></th>\n",
       "      <th>Price</th>\n",
       "      <th>Mileage</th>\n",
       "      <th>Make</th>\n",
       "      <th>Model</th>\n",
       "      <th>Trim</th>\n",
       "      <th>Type</th>\n",
       "      <th>Cylinder</th>\n",
       "      <th>Liter</th>\n",
       "      <th>Doors</th>\n",
       "      <th>Cruise</th>\n",
       "      <th>Sound</th>\n",
       "      <th>Leather</th>\n",
       "    </tr>\n",
       "  </thead>\n",
       "  <tbody>\n",
       "    <tr>\n",
       "      <th>0</th>\n",
       "      <td>17314.10313</td>\n",
       "      <td>8221</td>\n",
       "      <td>Buick</td>\n",
       "      <td>Century</td>\n",
       "      <td>Sedan 4D</td>\n",
       "      <td>Sedan</td>\n",
       "      <td>6</td>\n",
       "      <td>3.1</td>\n",
       "      <td>4</td>\n",
       "      <td>1</td>\n",
       "      <td>1</td>\n",
       "      <td>1</td>\n",
       "    </tr>\n",
       "    <tr>\n",
       "      <th>1</th>\n",
       "      <td>17542.03608</td>\n",
       "      <td>9135</td>\n",
       "      <td>Buick</td>\n",
       "      <td>Century</td>\n",
       "      <td>Sedan 4D</td>\n",
       "      <td>Sedan</td>\n",
       "      <td>6</td>\n",
       "      <td>3.1</td>\n",
       "      <td>4</td>\n",
       "      <td>1</td>\n",
       "      <td>1</td>\n",
       "      <td>0</td>\n",
       "    </tr>\n",
       "    <tr>\n",
       "      <th>2</th>\n",
       "      <td>16218.84786</td>\n",
       "      <td>13196</td>\n",
       "      <td>Buick</td>\n",
       "      <td>Century</td>\n",
       "      <td>Sedan 4D</td>\n",
       "      <td>Sedan</td>\n",
       "      <td>6</td>\n",
       "      <td>3.1</td>\n",
       "      <td>4</td>\n",
       "      <td>1</td>\n",
       "      <td>1</td>\n",
       "      <td>0</td>\n",
       "    </tr>\n",
       "    <tr>\n",
       "      <th>3</th>\n",
       "      <td>16336.91314</td>\n",
       "      <td>16342</td>\n",
       "      <td>Buick</td>\n",
       "      <td>Century</td>\n",
       "      <td>Sedan 4D</td>\n",
       "      <td>Sedan</td>\n",
       "      <td>6</td>\n",
       "      <td>3.1</td>\n",
       "      <td>4</td>\n",
       "      <td>1</td>\n",
       "      <td>0</td>\n",
       "      <td>0</td>\n",
       "    </tr>\n",
       "    <tr>\n",
       "      <th>4</th>\n",
       "      <td>16339.17032</td>\n",
       "      <td>19832</td>\n",
       "      <td>Buick</td>\n",
       "      <td>Century</td>\n",
       "      <td>Sedan 4D</td>\n",
       "      <td>Sedan</td>\n",
       "      <td>6</td>\n",
       "      <td>3.1</td>\n",
       "      <td>4</td>\n",
       "      <td>1</td>\n",
       "      <td>0</td>\n",
       "      <td>1</td>\n",
       "    </tr>\n",
       "  </tbody>\n",
       "</table>\n",
       "</div>"
      ],
      "text/plain": [
       "         Price  Mileage   Make    Model      Trim   Type  Cylinder Liter  \\\n",
       "0  17314.10313     8221  Buick  Century  Sedan 4D  Sedan         6   3.1   \n",
       "1  17542.03608     9135  Buick  Century  Sedan 4D  Sedan         6   3.1   \n",
       "2  16218.84786    13196  Buick  Century  Sedan 4D  Sedan         6   3.1   \n",
       "3  16336.91314    16342  Buick  Century  Sedan 4D  Sedan         6   3.1   \n",
       "4  16339.17032    19832  Buick  Century  Sedan 4D  Sedan         6   3.1   \n",
       "\n",
       "   Doors  Cruise  Sound  Leather  \n",
       "0      4       1      1        1  \n",
       "1      4       1      1        0  \n",
       "2      4       1      1        0  \n",
       "3      4       1      0        0  \n",
       "4      4       1      0        1  "
      ]
     },
     "execution_count": 6,
     "metadata": {},
     "output_type": "execute_result"
    }
   ],
   "source": [
    "import pandas as pd\n",
    "cur = db_connection.cursor()\n",
    "cur.execute(\"SELECT * FROM bluebook_small\")\n",
    "logging.debug(\"select_all(): status message: {}\".format(cur.statusmessage))\n",
    "df = pd.DataFrame(cur.fetchall(), columns = ['Price','Mileage','Make','Model','Trim','Type','Cylinder','Liter','Doors','Cruise','Sound','Leather'])\n",
    "df.head()"
   ]
  },
  {
   "cell_type": "code",
   "execution_count": 7,
   "metadata": {},
   "outputs": [],
   "source": [
    "import seaborn as sns\n",
    "import csv\n",
    "import numpy as np\n",
    "import pandas as pd\n",
    "import datetime\n",
    "import matplotlib.pyplot as plt\n",
    "%matplotlib inline\n",
    "import zipfile\n",
    "from IPython.display import display, Latex, Markdown\n",
    "import plotly.express as px\n",
    "import plotly.graph_objs as go\n",
    "plt.rcParams['font.sans-serif'] = \"Comic Sans MS\"\n",
    "import warnings; warnings.simplefilter('ignore')\n",
    "from numpy import mean\n",
    "from numpy import std\n",
    "from sklearn.datasets import make_regression\n",
    "from sklearn.model_selection import cross_val_score\n",
    "from sklearn.model_selection import RepeatedKFold\n",
    "from sklearn.feature_selection import RFE\n",
    "from sklearn.tree import DecisionTreeRegressor\n",
    "from sklearn.pipeline import Pipeline"
   ]
  },
  {
   "cell_type": "code",
   "execution_count": 8,
   "metadata": {},
   "outputs": [
    {
     "data": {
      "text/html": [
       "<div>\n",
       "<style scoped>\n",
       "    .dataframe tbody tr th:only-of-type {\n",
       "        vertical-align: middle;\n",
       "    }\n",
       "\n",
       "    .dataframe tbody tr th {\n",
       "        vertical-align: top;\n",
       "    }\n",
       "\n",
       "    .dataframe thead th {\n",
       "        text-align: right;\n",
       "    }\n",
       "</style>\n",
       "<table border=\"1\" class=\"dataframe\">\n",
       "  <thead>\n",
       "    <tr style=\"text-align: right;\">\n",
       "      <th></th>\n",
       "      <th>Price</th>\n",
       "      <th>Mileage</th>\n",
       "      <th>Make</th>\n",
       "      <th>Model</th>\n",
       "      <th>Trim</th>\n",
       "      <th>Type</th>\n",
       "      <th>Cylinder</th>\n",
       "      <th>Liter</th>\n",
       "      <th>Doors</th>\n",
       "      <th>Cruise</th>\n",
       "      <th>Sound</th>\n",
       "      <th>Leather</th>\n",
       "    </tr>\n",
       "  </thead>\n",
       "  <tbody>\n",
       "    <tr>\n",
       "      <th>0</th>\n",
       "      <td>17314.10313</td>\n",
       "      <td>8221</td>\n",
       "      <td>0</td>\n",
       "      <td>10</td>\n",
       "      <td>44</td>\n",
       "      <td>3</td>\n",
       "      <td>6</td>\n",
       "      <td>3.1</td>\n",
       "      <td>4</td>\n",
       "      <td>1</td>\n",
       "      <td>1</td>\n",
       "      <td>1</td>\n",
       "    </tr>\n",
       "    <tr>\n",
       "      <th>1</th>\n",
       "      <td>17542.03608</td>\n",
       "      <td>9135</td>\n",
       "      <td>0</td>\n",
       "      <td>10</td>\n",
       "      <td>44</td>\n",
       "      <td>3</td>\n",
       "      <td>6</td>\n",
       "      <td>3.1</td>\n",
       "      <td>4</td>\n",
       "      <td>1</td>\n",
       "      <td>1</td>\n",
       "      <td>0</td>\n",
       "    </tr>\n",
       "    <tr>\n",
       "      <th>2</th>\n",
       "      <td>16218.84786</td>\n",
       "      <td>13196</td>\n",
       "      <td>0</td>\n",
       "      <td>10</td>\n",
       "      <td>44</td>\n",
       "      <td>3</td>\n",
       "      <td>6</td>\n",
       "      <td>3.1</td>\n",
       "      <td>4</td>\n",
       "      <td>1</td>\n",
       "      <td>1</td>\n",
       "      <td>0</td>\n",
       "    </tr>\n",
       "    <tr>\n",
       "      <th>3</th>\n",
       "      <td>16336.91314</td>\n",
       "      <td>16342</td>\n",
       "      <td>0</td>\n",
       "      <td>10</td>\n",
       "      <td>44</td>\n",
       "      <td>3</td>\n",
       "      <td>6</td>\n",
       "      <td>3.1</td>\n",
       "      <td>4</td>\n",
       "      <td>1</td>\n",
       "      <td>0</td>\n",
       "      <td>0</td>\n",
       "    </tr>\n",
       "    <tr>\n",
       "      <th>4</th>\n",
       "      <td>16339.17032</td>\n",
       "      <td>19832</td>\n",
       "      <td>0</td>\n",
       "      <td>10</td>\n",
       "      <td>44</td>\n",
       "      <td>3</td>\n",
       "      <td>6</td>\n",
       "      <td>3.1</td>\n",
       "      <td>4</td>\n",
       "      <td>1</td>\n",
       "      <td>0</td>\n",
       "      <td>1</td>\n",
       "    </tr>\n",
       "    <tr>\n",
       "      <th>...</th>\n",
       "      <td>...</td>\n",
       "      <td>...</td>\n",
       "      <td>...</td>\n",
       "      <td>...</td>\n",
       "      <td>...</td>\n",
       "      <td>...</td>\n",
       "      <td>...</td>\n",
       "      <td>...</td>\n",
       "      <td>...</td>\n",
       "      <td>...</td>\n",
       "      <td>...</td>\n",
       "      <td>...</td>\n",
       "    </tr>\n",
       "    <tr>\n",
       "      <th>799</th>\n",
       "      <td>16507.07027</td>\n",
       "      <td>16229</td>\n",
       "      <td>5</td>\n",
       "      <td>21</td>\n",
       "      <td>21</td>\n",
       "      <td>3</td>\n",
       "      <td>6</td>\n",
       "      <td>3</td>\n",
       "      <td>4</td>\n",
       "      <td>1</td>\n",
       "      <td>0</td>\n",
       "      <td>0</td>\n",
       "    </tr>\n",
       "    <tr>\n",
       "      <th>800</th>\n",
       "      <td>16175.9576</td>\n",
       "      <td>19095</td>\n",
       "      <td>5</td>\n",
       "      <td>21</td>\n",
       "      <td>21</td>\n",
       "      <td>3</td>\n",
       "      <td>6</td>\n",
       "      <td>3</td>\n",
       "      <td>4</td>\n",
       "      <td>1</td>\n",
       "      <td>1</td>\n",
       "      <td>0</td>\n",
       "    </tr>\n",
       "    <tr>\n",
       "      <th>801</th>\n",
       "      <td>15731.1329</td>\n",
       "      <td>20484</td>\n",
       "      <td>5</td>\n",
       "      <td>21</td>\n",
       "      <td>21</td>\n",
       "      <td>3</td>\n",
       "      <td>6</td>\n",
       "      <td>3</td>\n",
       "      <td>4</td>\n",
       "      <td>1</td>\n",
       "      <td>1</td>\n",
       "      <td>0</td>\n",
       "    </tr>\n",
       "    <tr>\n",
       "      <th>802</th>\n",
       "      <td>15118.89323</td>\n",
       "      <td>25979</td>\n",
       "      <td>5</td>\n",
       "      <td>21</td>\n",
       "      <td>21</td>\n",
       "      <td>3</td>\n",
       "      <td>6</td>\n",
       "      <td>3</td>\n",
       "      <td>4</td>\n",
       "      <td>1</td>\n",
       "      <td>1</td>\n",
       "      <td>0</td>\n",
       "    </tr>\n",
       "    <tr>\n",
       "      <th>803</th>\n",
       "      <td>13585.6368</td>\n",
       "      <td>35662</td>\n",
       "      <td>5</td>\n",
       "      <td>21</td>\n",
       "      <td>21</td>\n",
       "      <td>3</td>\n",
       "      <td>6</td>\n",
       "      <td>3</td>\n",
       "      <td>4</td>\n",
       "      <td>1</td>\n",
       "      <td>0</td>\n",
       "      <td>0</td>\n",
       "    </tr>\n",
       "  </tbody>\n",
       "</table>\n",
       "<p>804 rows × 12 columns</p>\n",
       "</div>"
      ],
      "text/plain": [
       "           Price  Mileage  Make  Model  Trim  Type  Cylinder Liter  Doors  \\\n",
       "0    17314.10313     8221     0     10    44     3         6   3.1      4   \n",
       "1    17542.03608     9135     0     10    44     3         6   3.1      4   \n",
       "2    16218.84786    13196     0     10    44     3         6   3.1      4   \n",
       "3    16336.91314    16342     0     10    44     3         6   3.1      4   \n",
       "4    16339.17032    19832     0     10    44     3         6   3.1      4   \n",
       "..           ...      ...   ...    ...   ...   ...       ...   ...    ...   \n",
       "799  16507.07027    16229     5     21    21     3         6     3      4   \n",
       "800   16175.9576    19095     5     21    21     3         6     3      4   \n",
       "801   15731.1329    20484     5     21    21     3         6     3      4   \n",
       "802  15118.89323    25979     5     21    21     3         6     3      4   \n",
       "803   13585.6368    35662     5     21    21     3         6     3      4   \n",
       "\n",
       "     Cruise  Sound  Leather  \n",
       "0         1      1        1  \n",
       "1         1      1        0  \n",
       "2         1      1        0  \n",
       "3         1      0        0  \n",
       "4         1      0        1  \n",
       "..      ...    ...      ...  \n",
       "799       1      0        0  \n",
       "800       1      1        0  \n",
       "801       1      1        0  \n",
       "802       1      1        0  \n",
       "803       1      0        0  \n",
       "\n",
       "[804 rows x 12 columns]"
      ]
     },
     "execution_count": 8,
     "metadata": {},
     "output_type": "execute_result"
    }
   ],
   "source": [
    "from sklearn.preprocessing import LabelEncoder \n",
    "  \n",
    "le = LabelEncoder()\n",
    "df['Make']= le.fit_transform(df['Make']) \n",
    "df['Model']= le.fit_transform(df['Model']) \n",
    "df['Trim']= le.fit_transform(df['Trim']) \n",
    "df['Type']= le.fit_transform(df['Type'])\n",
    "df"
   ]
  },
  {
   "cell_type": "code",
   "execution_count": 9,
   "metadata": {},
   "outputs": [],
   "source": [
    "X = df.drop('Price', 1)\n",
    "X = X.apply(pd.to_numeric)\n",
    "y = df['Price']\n",
    "y = y.apply(pd.to_numeric)"
   ]
  },
  {
   "cell_type": "code",
   "execution_count": 11,
   "metadata": {},
   "outputs": [],
   "source": [
    "import statsmodels.api as sm\n",
    "from sklearn.preprocessing import StandardScaler\n",
    "scale = StandardScaler()\n",
    "X[['Mileage', 'Make', 'Model', 'Trim', 'Type', 'Cylinder', 'Liter', 'Doors', 'Cruise', 'Sound', 'Leather']] = scale.fit_transform(X[['Mileage', 'Make', 'Model', 'Trim', 'Type', 'Cylinder', 'Liter', 'Doors', 'Cruise', 'Sound', 'Leather']].values)"
   ]
  },
  {
   "cell_type": "code",
   "execution_count": 12,
   "metadata": {},
   "outputs": [
    {
     "data": {
      "text/html": [
       "<div>\n",
       "<style scoped>\n",
       "    .dataframe tbody tr th:only-of-type {\n",
       "        vertical-align: middle;\n",
       "    }\n",
       "\n",
       "    .dataframe tbody tr th {\n",
       "        vertical-align: top;\n",
       "    }\n",
       "\n",
       "    .dataframe thead th {\n",
       "        text-align: right;\n",
       "    }\n",
       "</style>\n",
       "<table border=\"1\" class=\"dataframe\">\n",
       "  <thead>\n",
       "    <tr style=\"text-align: right;\">\n",
       "      <th></th>\n",
       "      <th>Mileage</th>\n",
       "      <th>Make</th>\n",
       "      <th>Model</th>\n",
       "      <th>Trim</th>\n",
       "      <th>Type</th>\n",
       "      <th>Cylinder</th>\n",
       "      <th>Liter</th>\n",
       "      <th>Doors</th>\n",
       "      <th>Cruise</th>\n",
       "      <th>Sound</th>\n",
       "      <th>Leather</th>\n",
       "    </tr>\n",
       "  </thead>\n",
       "  <tbody>\n",
       "    <tr>\n",
       "      <th>0</th>\n",
       "      <td>-1.417485</td>\n",
       "      <td>-1.802394</td>\n",
       "      <td>-0.556062</td>\n",
       "      <td>1.203142</td>\n",
       "      <td>0.498507</td>\n",
       "      <td>0.52741</td>\n",
       "      <td>0.056736</td>\n",
       "      <td>0.556279</td>\n",
       "      <td>0.57352</td>\n",
       "      <td>0.687406</td>\n",
       "      <td>0.617611</td>\n",
       "    </tr>\n",
       "    <tr>\n",
       "      <th>1</th>\n",
       "      <td>-1.305902</td>\n",
       "      <td>-1.802394</td>\n",
       "      <td>-0.556062</td>\n",
       "      <td>1.203142</td>\n",
       "      <td>0.498507</td>\n",
       "      <td>0.52741</td>\n",
       "      <td>0.056736</td>\n",
       "      <td>0.556279</td>\n",
       "      <td>0.57352</td>\n",
       "      <td>0.687406</td>\n",
       "      <td>-1.619142</td>\n",
       "    </tr>\n",
       "    <tr>\n",
       "      <th>2</th>\n",
       "      <td>-0.810128</td>\n",
       "      <td>-1.802394</td>\n",
       "      <td>-0.556062</td>\n",
       "      <td>1.203142</td>\n",
       "      <td>0.498507</td>\n",
       "      <td>0.52741</td>\n",
       "      <td>0.056736</td>\n",
       "      <td>0.556279</td>\n",
       "      <td>0.57352</td>\n",
       "      <td>0.687406</td>\n",
       "      <td>-1.619142</td>\n",
       "    </tr>\n",
       "    <tr>\n",
       "      <th>3</th>\n",
       "      <td>-0.426058</td>\n",
       "      <td>-1.802394</td>\n",
       "      <td>-0.556062</td>\n",
       "      <td>1.203142</td>\n",
       "      <td>0.498507</td>\n",
       "      <td>0.52741</td>\n",
       "      <td>0.056736</td>\n",
       "      <td>0.556279</td>\n",
       "      <td>0.57352</td>\n",
       "      <td>-1.454744</td>\n",
       "      <td>-1.619142</td>\n",
       "    </tr>\n",
       "    <tr>\n",
       "      <th>4</th>\n",
       "      <td>0.000008</td>\n",
       "      <td>-1.802394</td>\n",
       "      <td>-0.556062</td>\n",
       "      <td>1.203142</td>\n",
       "      <td>0.498507</td>\n",
       "      <td>0.52741</td>\n",
       "      <td>0.056736</td>\n",
       "      <td>0.556279</td>\n",
       "      <td>0.57352</td>\n",
       "      <td>-1.454744</td>\n",
       "      <td>0.617611</td>\n",
       "    </tr>\n",
       "    <tr>\n",
       "      <th>...</th>\n",
       "      <td>...</td>\n",
       "      <td>...</td>\n",
       "      <td>...</td>\n",
       "      <td>...</td>\n",
       "      <td>...</td>\n",
       "      <td>...</td>\n",
       "      <td>...</td>\n",
       "      <td>...</td>\n",
       "      <td>...</td>\n",
       "      <td>...</td>\n",
       "      <td>...</td>\n",
       "    </tr>\n",
       "    <tr>\n",
       "      <th>799</th>\n",
       "      <td>-0.439853</td>\n",
       "      <td>1.959613</td>\n",
       "      <td>0.708158</td>\n",
       "      <td>-0.396779</td>\n",
       "      <td>0.498507</td>\n",
       "      <td>0.52741</td>\n",
       "      <td>-0.033772</td>\n",
       "      <td>0.556279</td>\n",
       "      <td>0.57352</td>\n",
       "      <td>-1.454744</td>\n",
       "      <td>-1.619142</td>\n",
       "    </tr>\n",
       "    <tr>\n",
       "      <th>800</th>\n",
       "      <td>-0.089966</td>\n",
       "      <td>1.959613</td>\n",
       "      <td>0.708158</td>\n",
       "      <td>-0.396779</td>\n",
       "      <td>0.498507</td>\n",
       "      <td>0.52741</td>\n",
       "      <td>-0.033772</td>\n",
       "      <td>0.556279</td>\n",
       "      <td>0.57352</td>\n",
       "      <td>0.687406</td>\n",
       "      <td>-1.619142</td>\n",
       "    </tr>\n",
       "    <tr>\n",
       "      <th>801</th>\n",
       "      <td>0.079605</td>\n",
       "      <td>1.959613</td>\n",
       "      <td>0.708158</td>\n",
       "      <td>-0.396779</td>\n",
       "      <td>0.498507</td>\n",
       "      <td>0.52741</td>\n",
       "      <td>-0.033772</td>\n",
       "      <td>0.556279</td>\n",
       "      <td>0.57352</td>\n",
       "      <td>0.687406</td>\n",
       "      <td>-1.619142</td>\n",
       "    </tr>\n",
       "    <tr>\n",
       "      <th>802</th>\n",
       "      <td>0.750446</td>\n",
       "      <td>1.959613</td>\n",
       "      <td>0.708158</td>\n",
       "      <td>-0.396779</td>\n",
       "      <td>0.498507</td>\n",
       "      <td>0.52741</td>\n",
       "      <td>-0.033772</td>\n",
       "      <td>0.556279</td>\n",
       "      <td>0.57352</td>\n",
       "      <td>0.687406</td>\n",
       "      <td>-1.619142</td>\n",
       "    </tr>\n",
       "    <tr>\n",
       "      <th>803</th>\n",
       "      <td>1.932565</td>\n",
       "      <td>1.959613</td>\n",
       "      <td>0.708158</td>\n",
       "      <td>-0.396779</td>\n",
       "      <td>0.498507</td>\n",
       "      <td>0.52741</td>\n",
       "      <td>-0.033772</td>\n",
       "      <td>0.556279</td>\n",
       "      <td>0.57352</td>\n",
       "      <td>-1.454744</td>\n",
       "      <td>-1.619142</td>\n",
       "    </tr>\n",
       "  </tbody>\n",
       "</table>\n",
       "<p>804 rows × 11 columns</p>\n",
       "</div>"
      ],
      "text/plain": [
       "      Mileage      Make     Model      Trim      Type  Cylinder     Liter  \\\n",
       "0   -1.417485 -1.802394 -0.556062  1.203142  0.498507   0.52741  0.056736   \n",
       "1   -1.305902 -1.802394 -0.556062  1.203142  0.498507   0.52741  0.056736   \n",
       "2   -0.810128 -1.802394 -0.556062  1.203142  0.498507   0.52741  0.056736   \n",
       "3   -0.426058 -1.802394 -0.556062  1.203142  0.498507   0.52741  0.056736   \n",
       "4    0.000008 -1.802394 -0.556062  1.203142  0.498507   0.52741  0.056736   \n",
       "..        ...       ...       ...       ...       ...       ...       ...   \n",
       "799 -0.439853  1.959613  0.708158 -0.396779  0.498507   0.52741 -0.033772   \n",
       "800 -0.089966  1.959613  0.708158 -0.396779  0.498507   0.52741 -0.033772   \n",
       "801  0.079605  1.959613  0.708158 -0.396779  0.498507   0.52741 -0.033772   \n",
       "802  0.750446  1.959613  0.708158 -0.396779  0.498507   0.52741 -0.033772   \n",
       "803  1.932565  1.959613  0.708158 -0.396779  0.498507   0.52741 -0.033772   \n",
       "\n",
       "        Doors   Cruise     Sound   Leather  \n",
       "0    0.556279  0.57352  0.687406  0.617611  \n",
       "1    0.556279  0.57352  0.687406 -1.619142  \n",
       "2    0.556279  0.57352  0.687406 -1.619142  \n",
       "3    0.556279  0.57352 -1.454744 -1.619142  \n",
       "4    0.556279  0.57352 -1.454744  0.617611  \n",
       "..        ...      ...       ...       ...  \n",
       "799  0.556279  0.57352 -1.454744 -1.619142  \n",
       "800  0.556279  0.57352  0.687406 -1.619142  \n",
       "801  0.556279  0.57352  0.687406 -1.619142  \n",
       "802  0.556279  0.57352  0.687406 -1.619142  \n",
       "803  0.556279  0.57352 -1.454744 -1.619142  \n",
       "\n",
       "[804 rows x 11 columns]"
      ]
     },
     "execution_count": 12,
     "metadata": {},
     "output_type": "execute_result"
    }
   ],
   "source": [
    "X"
   ]
  },
  {
   "cell_type": "markdown",
   "metadata": {},
   "source": [
    "In this example, we are using sklearn’s feature selection library and choosing a Decision Tree Regressor estimator for RFE. The reason why we are using regressors over classifiers is that we do not have a multi-class problem here; since we are predicting the price of cars based on its characteristics, we are minimizing the loss in the arbitrary loss function chosen to find the most suitable and optimizable model for this data science question. As standard practice suggests, we have randomly kept aside 20% of the data as “unseen” test data, and are using the remaining 80% as training data to test various machine learning approaches."
   ]
  },
  {
   "cell_type": "code",
   "execution_count": 13,
   "metadata": {},
   "outputs": [
    {
     "name": "stdout",
     "output_type": "stream",
     "text": [
      "MAE: -903.890 (299.065)\n"
     ]
    }
   ],
   "source": [
    "# evaluate RFE for regression\n",
    "from numpy import mean\n",
    "from numpy import std\n",
    "from sklearn.datasets import make_regression\n",
    "from sklearn.model_selection import cross_val_score\n",
    "from sklearn.model_selection import RepeatedKFold\n",
    "from sklearn.feature_selection import RFE\n",
    "from sklearn.tree import DecisionTreeRegressor\n",
    "from sklearn.pipeline import Pipeline\n",
    "\n",
    "# create pipeline\n",
    "rfe = RFE(estimator=DecisionTreeRegressor(), n_features_to_select=5)\n",
    "model = DecisionTreeRegressor()\n",
    "pipeline = Pipeline(steps=[('s',rfe),('m',model)])\n",
    "# evaluate model\n",
    "cv = RepeatedKFold(n_splits=10, n_repeats=3, random_state=1)\n",
    "n_scores = cross_val_score(pipeline, X, y, scoring='neg_mean_absolute_error', cv=cv, n_jobs=-1, error_score='raise')\n",
    "# report performance\n",
    "print('MAE: %.3f (%.3f)' % (mean(n_scores), std(n_scores)))"
   ]
  },
  {
   "cell_type": "markdown",
   "metadata": {},
   "source": [
    "There are many loss functions one can choose for evaluating regressor models. The reason why I have chosen mean absolute error is that there is no difference between overestimating and underestimating the price of a car; we are simply seeing how different the delta is between the predicted and actual price of the car. The MAE of RFE comes to ~903."
   ]
  },
  {
   "cell_type": "code",
   "execution_count": 14,
   "metadata": {},
   "outputs": [],
   "source": [
    "feature_name = X.columns.tolist()\n",
    "num_feats = len(feature_name)"
   ]
  },
  {
   "cell_type": "markdown",
   "metadata": {},
   "source": [
    "Now we fit the pipeline on all the training data and then use the predict() function to make predictions on the test data. Also, we are able to see which features have been selected and which one rejected. "
   ]
  },
  {
   "cell_type": "code",
   "execution_count": 15,
   "metadata": {},
   "outputs": [
    {
     "name": "stdout",
     "output_type": "stream",
     "text": [
      "Column: 0, Mileage, Selected True, Rank: 1.000\n",
      "Column: 1, Make, Selected True, Rank: 1.000\n",
      "Column: 2, Model, Selected True, Rank: 1.000\n",
      "Column: 3, Trim, Selected True, Rank: 1.000\n",
      "Column: 4, Type, Selected False, Rank: 2.000\n",
      "Column: 5, Cylinder, Selected False, Rank: 6.000\n",
      "Column: 6, Liter, Selected True, Rank: 1.000\n",
      "Column: 7, Doors, Selected False, Rank: 5.000\n",
      "Column: 8, Cruise, Selected False, Rank: 7.000\n",
      "Column: 9, Sound, Selected False, Rank: 3.000\n",
      "Column: 10, Leather, Selected False, Rank: 4.000\n",
      "PREDICTED VALUE\n",
      "               0\n",
      "0   15048.04218\n",
      "1   16644.08787\n",
      "2   15589.78048\n",
      "3   44205.87588\n",
      "4   12425.38917\n",
      "5   27060.13756\n",
      "6   15086.89959\n",
      "7   27788.81324\n",
      "8   30661.26015\n",
      "9   38208.50102\n",
      "10  13825.15471\n",
      "11  20537.14172\n",
      "12  19344.16554\n",
      "13  33183.33260\n",
      "14  27280.98206\n",
      "15  16644.08787\n",
      "16  25148.37919\n",
      "17  23102.02237\n",
      "18  20537.14172\n",
      "19  14909.05099 \n",
      "TEST VALUE\n",
      " 8      14862.09387\n",
      "575    15979.01484\n",
      "616    15802.65286\n",
      "142    45061.95194\n",
      "236    12630.77503\n",
      "664    25618.28188\n",
      "608    15174.34661\n",
      "739    26012.37462\n",
      "710    33005.77996\n",
      "150    39072.39205\n",
      "758    13811.15502\n",
      "466    20676.16551\n",
      "14     19774.24907\n",
      "691    32746.13139\n",
      "741    25959.12203\n",
      "576    16256.23617\n",
      "667    24852.49528\n",
      "504    21607.77257\n",
      "465    21233.91136\n",
      "626    14398.92269\n",
      "Name: Price, dtype: float64\n"
     ]
    }
   ],
   "source": [
    "# create pipeline\n",
    "from sklearn.model_selection import train_test_split\n",
    "rfe = RFE(estimator=DecisionTreeRegressor(), n_features_to_select=5)\n",
    "model = DecisionTreeRegressor()\n",
    "pipeline = Pipeline(steps=[('s',rfe),('m',model)])\n",
    "# fit the model on all available data\n",
    "X_train, X_test, y_train, y_test = train_test_split(X,y, test_size = 0.3, random_state = 0)\n",
    "pipeline.fit(X_train, y_train)\n",
    "yhat = pipeline.predict(X_test)\n",
    "#print(yhat)\n",
    "# summarize all features\n",
    "for i in range(X_train.shape[1]):\n",
    "    print('Column: %d, %s, Selected %s, Rank: %.3f' % (i, feature_name[i], rfe.support_[i], rfe.ranking_[i]))\n",
    "print(\"PREDICTED VALUE\\n\", pd.DataFrame(data=yhat[:20]), \"\\nTEST VALUE\\n\", y_test[:20])"
   ]
  },
  {
   "cell_type": "markdown",
   "metadata": {},
   "source": [
    "Above, we can see the results of RFE, in which 5 features are chosen: mileage, make, model, trim, and liter."
   ]
  },
  {
   "cell_type": "code",
   "execution_count": 17,
   "metadata": {},
   "outputs": [
    {
     "data": {
      "application/vnd.plotly.v1+json": {
       "config": {
        "plotlyServerURL": "https://plot.ly"
       },
       "data": [
        {
         "marker": {
          "color": 1,
          "size": 10
         },
         "mode": "markers",
         "name": "actual",
         "type": "scatter",
         "x": [
          [
           0.5114092231042691,
           -1.8023944979167408,
           -0.5560624444052118,
           1.2031416963888868,
           0.49850651982507665,
           0.5274104732546615,
           0.056736383943495394,
           0.5562789354915941,
           0.5735203743850001,
           -1.454743644003108,
           0.6176109608556767
          ],
          [
           0.26150752673875205,
           0.4548098265771216,
           0.3633703685547681,
           1.2031416963888868,
           0.49850651982507665,
           0.5274104732546615,
           0.6902926713125284,
           0.5562789354915941,
           0.5735203743850001,
           -1.454743644003108,
           -1.6191422487297469
          ],
          [
           0.19887950024363224,
           0.4548098265771216,
           1.742519587994738,
           -0.6750259970678912,
           1.439349810762545,
           -0.9148957189111482,
           -1.1198681497418521,
           0.5562789354915941,
           -1.7436172186076642,
           -1.454743644003108,
           -1.6191422487297469
          ],
          [
           -0.7328497360346414,
           -1.0499930564187867,
           1.512661384754743,
           1.2031416963888868,
           0.49850651982507665,
           1.9697166654204712,
           1.4143569997342804,
           0.5562789354915941,
           0.5735203743850001,
           0.687406337276194,
           0.6176109608556767
          ],
          [
           0.3343904347652365,
           -0.2975916149208325,
           -0.6709915460252093,
           -0.3272171649462656,
           -1.3831800620498602,
           -0.9148957189111482,
           -0.7578359855309758,
           -1.7976592967991518,
           0.5735203743850001,
           0.687406337276194,
           0.6176109608556767
          ],
          [
           0.045910850734109575,
           1.2072112680750757,
           -1.4754952573651918,
           -1.7184524934327678,
           0.49850651982507665,
           -0.9148957189111482,
           -0.938852067636414,
           0.5562789354915941,
           0.5735203743850001,
           -1.454743644003108,
           0.6176109608556767
          ],
          [
           0.9833779373930278,
           0.4548098265771216,
           1.742519587994738,
           -1.857576026281418,
           1.439349810762545,
           -0.9148957189111482,
           -1.1198681497418521,
           0.5562789354915941,
           -1.7436172186076642,
           -1.454743644003108,
           -1.6191422487297469
          ],
          [
           1.762504769930756,
           1.2072112680750757,
           -1.2456370541251969,
           -1.6488907270084427,
           1.439349810762545,
           -0.9148957189111482,
           -0.667327944478257,
           0.5562789354915941,
           0.5735203743850001,
           0.687406337276194,
           0.6176109608556767
          ],
          [
           -1.6386976046385187,
           1.2072112680750757,
           -1.3605661557451942,
           0.5770857985699608,
           1.439349810762545,
           -0.9148957189111482,
           -0.667327944478257,
           0.5562789354915941,
           0.5735203743850001,
           0.687406337276194,
           0.6176109608556767
          ],
          [
           1.435081052465042,
           -1.0499930564187867,
           1.512661384754743,
           1.2031416963888868,
           0.49850651982507665,
           1.9697166654204712,
           1.4143569997342804,
           0.5562789354915941,
           0.5735203743850001,
           -1.454743644003108,
           0.6176109608556767
          ],
          [
           0.7818206825325155,
           1.9596127095730298,
           0.5932285717947631,
           0.716209331418611,
           -1.3831800620498602,
           -0.9148957189111482,
           -0.7578359855309758,
           -1.7976592967991518,
           -1.7436172186076642,
           0.687406337276194,
           0.6176109608556767
          ],
          [
           -0.22108231485034857,
           -0.2975916149208325,
           1.1678740798947507,
           0.09015343359968503,
           -1.3831800620498602,
           0.5274104732546615,
           0.6902926713125284,
           -1.7976592967991518,
           0.5735203743850001,
           -1.454743644003108,
           0.6176109608556767
          ],
          [
           0.4305909900832763,
           -1.8023944979167408,
           0.8230867750347581,
           -1.3706436613111423,
           0.49850651982507665,
           0.5274104732546615,
           0.5092765892070905,
           0.5562789354915941,
           0.5735203743850001,
           0.687406337276194,
           0.6176109608556767
          ],
          [
           -1.4537434913049778,
           1.2072112680750757,
           -1.3605661557451942,
           -1.5097671941597925,
           0.49850651982507665,
           -0.9148957189111482,
           -0.667327944478257,
           0.5562789354915941,
           0.5735203743850001,
           -1.454743644003108,
           0.6176109608556767
          ],
          [
           -0.293110649415886,
           1.2072112680750757,
           -1.7053534606051868,
           0.5770857985699608,
           1.439349810762545,
           -0.9148957189111482,
           -0.48631186237281887,
           0.5562789354915941,
           0.5735203743850001,
           -1.454743644003108,
           0.6176109608556767
          ],
          [
           0.3424478416827373,
           0.4548098265771216,
           0.3633703685547681,
           1.2031416963888868,
           0.49850651982507665,
           0.5274104732546615,
           0.6902926713125284,
           0.5562789354915941,
           0.5735203743850001,
           -1.454743644003108,
           -1.6191422487297469
          ],
          [
           0.3640563420523985,
           1.2072112680750757,
           -1.4754952573651918,
           -1.7184524934327678,
           0.49850651982507665,
           -0.9148957189111482,
           -0.938852067636414,
           0.5562789354915941,
           0.5735203743850001,
           0.687406337276194,
           0.6176109608556767
          ],
          [
           -1.0697958434937656,
           0.4548098265771216,
           -1.0157788508852017,
           0.8553328642672612,
           0.49850651982507665,
           0.5274104732546615,
           0.6902926713125284,
           0.5562789354915941,
           0.5735203743850001,
           -1.454743644003108,
           0.6176109608556767
          ],
          [
           -0.304586350177175,
           -0.2975916149208325,
           1.1678740798947507,
           0.09015343359968503,
           -1.3831800620498602,
           0.5274104732546615,
           0.6902926713125284,
           -1.7976592967991518,
           0.5735203743850001,
           0.687406337276194,
           0.6176109608556767
          ],
          [
           0.22659209676291528,
           0.4548098265771216,
           1.742519587994738,
           1.342265229237537,
           1.439349810762545,
           -0.9148957189111482,
           -1.1198681497418521,
           0.5562789354915941,
           -1.7436172186076642,
           -1.454743644003108,
           -1.6191422487297469
          ]
         ],
         "y": [
          14862.09387,
          15979.01484,
          15802.65286,
          45061.95194,
          12630.77503,
          25618.28188,
          15174.34661,
          26012.37462,
          33005.77996,
          39072.39205,
          13811.15502,
          20676.16551,
          19774.24907,
          32746.13139,
          25959.12203,
          16256.23617,
          24852.49528,
          21607.77257,
          21233.91136,
          14398.92269
         ]
        },
        {
         "marker": {
          "color": 3,
          "size": 10
         },
         "mode": "markers",
         "name": "predictions",
         "type": "scatter",
         "x": [
          [
           0.5114092231042691,
           -1.8023944979167408,
           -0.5560624444052118,
           1.2031416963888868,
           0.49850651982507665,
           0.5274104732546615,
           0.056736383943495394,
           0.5562789354915941,
           0.5735203743850001,
           -1.454743644003108,
           0.6176109608556767
          ],
          [
           0.26150752673875205,
           0.4548098265771216,
           0.3633703685547681,
           1.2031416963888868,
           0.49850651982507665,
           0.5274104732546615,
           0.6902926713125284,
           0.5562789354915941,
           0.5735203743850001,
           -1.454743644003108,
           -1.6191422487297469
          ],
          [
           0.19887950024363224,
           0.4548098265771216,
           1.742519587994738,
           -0.6750259970678912,
           1.439349810762545,
           -0.9148957189111482,
           -1.1198681497418521,
           0.5562789354915941,
           -1.7436172186076642,
           -1.454743644003108,
           -1.6191422487297469
          ],
          [
           -0.7328497360346414,
           -1.0499930564187867,
           1.512661384754743,
           1.2031416963888868,
           0.49850651982507665,
           1.9697166654204712,
           1.4143569997342804,
           0.5562789354915941,
           0.5735203743850001,
           0.687406337276194,
           0.6176109608556767
          ],
          [
           0.3343904347652365,
           -0.2975916149208325,
           -0.6709915460252093,
           -0.3272171649462656,
           -1.3831800620498602,
           -0.9148957189111482,
           -0.7578359855309758,
           -1.7976592967991518,
           0.5735203743850001,
           0.687406337276194,
           0.6176109608556767
          ],
          [
           0.045910850734109575,
           1.2072112680750757,
           -1.4754952573651918,
           -1.7184524934327678,
           0.49850651982507665,
           -0.9148957189111482,
           -0.938852067636414,
           0.5562789354915941,
           0.5735203743850001,
           -1.454743644003108,
           0.6176109608556767
          ],
          [
           0.9833779373930278,
           0.4548098265771216,
           1.742519587994738,
           -1.857576026281418,
           1.439349810762545,
           -0.9148957189111482,
           -1.1198681497418521,
           0.5562789354915941,
           -1.7436172186076642,
           -1.454743644003108,
           -1.6191422487297469
          ],
          [
           1.762504769930756,
           1.2072112680750757,
           -1.2456370541251969,
           -1.6488907270084427,
           1.439349810762545,
           -0.9148957189111482,
           -0.667327944478257,
           0.5562789354915941,
           0.5735203743850001,
           0.687406337276194,
           0.6176109608556767
          ],
          [
           -1.6386976046385187,
           1.2072112680750757,
           -1.3605661557451942,
           0.5770857985699608,
           1.439349810762545,
           -0.9148957189111482,
           -0.667327944478257,
           0.5562789354915941,
           0.5735203743850001,
           0.687406337276194,
           0.6176109608556767
          ],
          [
           1.435081052465042,
           -1.0499930564187867,
           1.512661384754743,
           1.2031416963888868,
           0.49850651982507665,
           1.9697166654204712,
           1.4143569997342804,
           0.5562789354915941,
           0.5735203743850001,
           -1.454743644003108,
           0.6176109608556767
          ],
          [
           0.7818206825325155,
           1.9596127095730298,
           0.5932285717947631,
           0.716209331418611,
           -1.3831800620498602,
           -0.9148957189111482,
           -0.7578359855309758,
           -1.7976592967991518,
           -1.7436172186076642,
           0.687406337276194,
           0.6176109608556767
          ],
          [
           -0.22108231485034857,
           -0.2975916149208325,
           1.1678740798947507,
           0.09015343359968503,
           -1.3831800620498602,
           0.5274104732546615,
           0.6902926713125284,
           -1.7976592967991518,
           0.5735203743850001,
           -1.454743644003108,
           0.6176109608556767
          ],
          [
           0.4305909900832763,
           -1.8023944979167408,
           0.8230867750347581,
           -1.3706436613111423,
           0.49850651982507665,
           0.5274104732546615,
           0.5092765892070905,
           0.5562789354915941,
           0.5735203743850001,
           0.687406337276194,
           0.6176109608556767
          ],
          [
           -1.4537434913049778,
           1.2072112680750757,
           -1.3605661557451942,
           -1.5097671941597925,
           0.49850651982507665,
           -0.9148957189111482,
           -0.667327944478257,
           0.5562789354915941,
           0.5735203743850001,
           -1.454743644003108,
           0.6176109608556767
          ],
          [
           -0.293110649415886,
           1.2072112680750757,
           -1.7053534606051868,
           0.5770857985699608,
           1.439349810762545,
           -0.9148957189111482,
           -0.48631186237281887,
           0.5562789354915941,
           0.5735203743850001,
           -1.454743644003108,
           0.6176109608556767
          ],
          [
           0.3424478416827373,
           0.4548098265771216,
           0.3633703685547681,
           1.2031416963888868,
           0.49850651982507665,
           0.5274104732546615,
           0.6902926713125284,
           0.5562789354915941,
           0.5735203743850001,
           -1.454743644003108,
           -1.6191422487297469
          ],
          [
           0.3640563420523985,
           1.2072112680750757,
           -1.4754952573651918,
           -1.7184524934327678,
           0.49850651982507665,
           -0.9148957189111482,
           -0.938852067636414,
           0.5562789354915941,
           0.5735203743850001,
           0.687406337276194,
           0.6176109608556767
          ],
          [
           -1.0697958434937656,
           0.4548098265771216,
           -1.0157788508852017,
           0.8553328642672612,
           0.49850651982507665,
           0.5274104732546615,
           0.6902926713125284,
           0.5562789354915941,
           0.5735203743850001,
           -1.454743644003108,
           0.6176109608556767
          ],
          [
           -0.304586350177175,
           -0.2975916149208325,
           1.1678740798947507,
           0.09015343359968503,
           -1.3831800620498602,
           0.5274104732546615,
           0.6902926713125284,
           -1.7976592967991518,
           0.5735203743850001,
           0.687406337276194,
           0.6176109608556767
          ],
          [
           0.22659209676291528,
           0.4548098265771216,
           1.742519587994738,
           1.342265229237537,
           1.439349810762545,
           -0.9148957189111482,
           -1.1198681497418521,
           0.5562789354915941,
           -1.7436172186076642,
           -1.454743644003108,
           -1.6191422487297469
          ]
         ],
         "y": [
          15048.04218,
          16644.08787,
          15589.78048,
          44205.87588,
          12425.38917,
          27060.13756,
          15086.89959,
          27788.81324,
          30661.26015,
          38208.50102,
          13825.15471,
          20537.14172,
          19344.16554,
          33183.3326,
          27280.98206,
          16644.08787,
          25148.37919,
          23102.02237,
          20537.14172,
          14909.05099
         ]
        }
       ],
       "layout": {
        "autosize": true,
        "template": {
         "data": {
          "bar": [
           {
            "error_x": {
             "color": "#2a3f5f"
            },
            "error_y": {
             "color": "#2a3f5f"
            },
            "marker": {
             "line": {
              "color": "#E5ECF6",
              "width": 0.5
             },
             "pattern": {
              "fillmode": "overlay",
              "size": 10,
              "solidity": 0.2
             }
            },
            "type": "bar"
           }
          ],
          "barpolar": [
           {
            "marker": {
             "line": {
              "color": "#E5ECF6",
              "width": 0.5
             },
             "pattern": {
              "fillmode": "overlay",
              "size": 10,
              "solidity": 0.2
             }
            },
            "type": "barpolar"
           }
          ],
          "carpet": [
           {
            "aaxis": {
             "endlinecolor": "#2a3f5f",
             "gridcolor": "white",
             "linecolor": "white",
             "minorgridcolor": "white",
             "startlinecolor": "#2a3f5f"
            },
            "baxis": {
             "endlinecolor": "#2a3f5f",
             "gridcolor": "white",
             "linecolor": "white",
             "minorgridcolor": "white",
             "startlinecolor": "#2a3f5f"
            },
            "type": "carpet"
           }
          ],
          "choropleth": [
           {
            "colorbar": {
             "outlinewidth": 0,
             "ticks": ""
            },
            "type": "choropleth"
           }
          ],
          "contour": [
           {
            "colorbar": {
             "outlinewidth": 0,
             "ticks": ""
            },
            "colorscale": [
             [
              0,
              "#0d0887"
             ],
             [
              0.1111111111111111,
              "#46039f"
             ],
             [
              0.2222222222222222,
              "#7201a8"
             ],
             [
              0.3333333333333333,
              "#9c179e"
             ],
             [
              0.4444444444444444,
              "#bd3786"
             ],
             [
              0.5555555555555556,
              "#d8576b"
             ],
             [
              0.6666666666666666,
              "#ed7953"
             ],
             [
              0.7777777777777778,
              "#fb9f3a"
             ],
             [
              0.8888888888888888,
              "#fdca26"
             ],
             [
              1,
              "#f0f921"
             ]
            ],
            "type": "contour"
           }
          ],
          "contourcarpet": [
           {
            "colorbar": {
             "outlinewidth": 0,
             "ticks": ""
            },
            "type": "contourcarpet"
           }
          ],
          "heatmap": [
           {
            "colorbar": {
             "outlinewidth": 0,
             "ticks": ""
            },
            "colorscale": [
             [
              0,
              "#0d0887"
             ],
             [
              0.1111111111111111,
              "#46039f"
             ],
             [
              0.2222222222222222,
              "#7201a8"
             ],
             [
              0.3333333333333333,
              "#9c179e"
             ],
             [
              0.4444444444444444,
              "#bd3786"
             ],
             [
              0.5555555555555556,
              "#d8576b"
             ],
             [
              0.6666666666666666,
              "#ed7953"
             ],
             [
              0.7777777777777778,
              "#fb9f3a"
             ],
             [
              0.8888888888888888,
              "#fdca26"
             ],
             [
              1,
              "#f0f921"
             ]
            ],
            "type": "heatmap"
           }
          ],
          "heatmapgl": [
           {
            "colorbar": {
             "outlinewidth": 0,
             "ticks": ""
            },
            "colorscale": [
             [
              0,
              "#0d0887"
             ],
             [
              0.1111111111111111,
              "#46039f"
             ],
             [
              0.2222222222222222,
              "#7201a8"
             ],
             [
              0.3333333333333333,
              "#9c179e"
             ],
             [
              0.4444444444444444,
              "#bd3786"
             ],
             [
              0.5555555555555556,
              "#d8576b"
             ],
             [
              0.6666666666666666,
              "#ed7953"
             ],
             [
              0.7777777777777778,
              "#fb9f3a"
             ],
             [
              0.8888888888888888,
              "#fdca26"
             ],
             [
              1,
              "#f0f921"
             ]
            ],
            "type": "heatmapgl"
           }
          ],
          "histogram": [
           {
            "marker": {
             "pattern": {
              "fillmode": "overlay",
              "size": 10,
              "solidity": 0.2
             }
            },
            "type": "histogram"
           }
          ],
          "histogram2d": [
           {
            "colorbar": {
             "outlinewidth": 0,
             "ticks": ""
            },
            "colorscale": [
             [
              0,
              "#0d0887"
             ],
             [
              0.1111111111111111,
              "#46039f"
             ],
             [
              0.2222222222222222,
              "#7201a8"
             ],
             [
              0.3333333333333333,
              "#9c179e"
             ],
             [
              0.4444444444444444,
              "#bd3786"
             ],
             [
              0.5555555555555556,
              "#d8576b"
             ],
             [
              0.6666666666666666,
              "#ed7953"
             ],
             [
              0.7777777777777778,
              "#fb9f3a"
             ],
             [
              0.8888888888888888,
              "#fdca26"
             ],
             [
              1,
              "#f0f921"
             ]
            ],
            "type": "histogram2d"
           }
          ],
          "histogram2dcontour": [
           {
            "colorbar": {
             "outlinewidth": 0,
             "ticks": ""
            },
            "colorscale": [
             [
              0,
              "#0d0887"
             ],
             [
              0.1111111111111111,
              "#46039f"
             ],
             [
              0.2222222222222222,
              "#7201a8"
             ],
             [
              0.3333333333333333,
              "#9c179e"
             ],
             [
              0.4444444444444444,
              "#bd3786"
             ],
             [
              0.5555555555555556,
              "#d8576b"
             ],
             [
              0.6666666666666666,
              "#ed7953"
             ],
             [
              0.7777777777777778,
              "#fb9f3a"
             ],
             [
              0.8888888888888888,
              "#fdca26"
             ],
             [
              1,
              "#f0f921"
             ]
            ],
            "type": "histogram2dcontour"
           }
          ],
          "mesh3d": [
           {
            "colorbar": {
             "outlinewidth": 0,
             "ticks": ""
            },
            "type": "mesh3d"
           }
          ],
          "parcoords": [
           {
            "line": {
             "colorbar": {
              "outlinewidth": 0,
              "ticks": ""
             }
            },
            "type": "parcoords"
           }
          ],
          "pie": [
           {
            "automargin": true,
            "type": "pie"
           }
          ],
          "scatter": [
           {
            "marker": {
             "colorbar": {
              "outlinewidth": 0,
              "ticks": ""
             }
            },
            "type": "scatter"
           }
          ],
          "scatter3d": [
           {
            "line": {
             "colorbar": {
              "outlinewidth": 0,
              "ticks": ""
             }
            },
            "marker": {
             "colorbar": {
              "outlinewidth": 0,
              "ticks": ""
             }
            },
            "type": "scatter3d"
           }
          ],
          "scattercarpet": [
           {
            "marker": {
             "colorbar": {
              "outlinewidth": 0,
              "ticks": ""
             }
            },
            "type": "scattercarpet"
           }
          ],
          "scattergeo": [
           {
            "marker": {
             "colorbar": {
              "outlinewidth": 0,
              "ticks": ""
             }
            },
            "type": "scattergeo"
           }
          ],
          "scattergl": [
           {
            "marker": {
             "colorbar": {
              "outlinewidth": 0,
              "ticks": ""
             }
            },
            "type": "scattergl"
           }
          ],
          "scattermapbox": [
           {
            "marker": {
             "colorbar": {
              "outlinewidth": 0,
              "ticks": ""
             }
            },
            "type": "scattermapbox"
           }
          ],
          "scatterpolar": [
           {
            "marker": {
             "colorbar": {
              "outlinewidth": 0,
              "ticks": ""
             }
            },
            "type": "scatterpolar"
           }
          ],
          "scatterpolargl": [
           {
            "marker": {
             "colorbar": {
              "outlinewidth": 0,
              "ticks": ""
             }
            },
            "type": "scatterpolargl"
           }
          ],
          "scatterternary": [
           {
            "marker": {
             "colorbar": {
              "outlinewidth": 0,
              "ticks": ""
             }
            },
            "type": "scatterternary"
           }
          ],
          "surface": [
           {
            "colorbar": {
             "outlinewidth": 0,
             "ticks": ""
            },
            "colorscale": [
             [
              0,
              "#0d0887"
             ],
             [
              0.1111111111111111,
              "#46039f"
             ],
             [
              0.2222222222222222,
              "#7201a8"
             ],
             [
              0.3333333333333333,
              "#9c179e"
             ],
             [
              0.4444444444444444,
              "#bd3786"
             ],
             [
              0.5555555555555556,
              "#d8576b"
             ],
             [
              0.6666666666666666,
              "#ed7953"
             ],
             [
              0.7777777777777778,
              "#fb9f3a"
             ],
             [
              0.8888888888888888,
              "#fdca26"
             ],
             [
              1,
              "#f0f921"
             ]
            ],
            "type": "surface"
           }
          ],
          "table": [
           {
            "cells": {
             "fill": {
              "color": "#EBF0F8"
             },
             "line": {
              "color": "white"
             }
            },
            "header": {
             "fill": {
              "color": "#C8D4E3"
             },
             "line": {
              "color": "white"
             }
            },
            "type": "table"
           }
          ]
         },
         "layout": {
          "annotationdefaults": {
           "arrowcolor": "#2a3f5f",
           "arrowhead": 0,
           "arrowwidth": 1
          },
          "autotypenumbers": "strict",
          "coloraxis": {
           "colorbar": {
            "outlinewidth": 0,
            "ticks": ""
           }
          },
          "colorscale": {
           "diverging": [
            [
             0,
             "#8e0152"
            ],
            [
             0.1,
             "#c51b7d"
            ],
            [
             0.2,
             "#de77ae"
            ],
            [
             0.3,
             "#f1b6da"
            ],
            [
             0.4,
             "#fde0ef"
            ],
            [
             0.5,
             "#f7f7f7"
            ],
            [
             0.6,
             "#e6f5d0"
            ],
            [
             0.7,
             "#b8e186"
            ],
            [
             0.8,
             "#7fbc41"
            ],
            [
             0.9,
             "#4d9221"
            ],
            [
             1,
             "#276419"
            ]
           ],
           "sequential": [
            [
             0,
             "#0d0887"
            ],
            [
             0.1111111111111111,
             "#46039f"
            ],
            [
             0.2222222222222222,
             "#7201a8"
            ],
            [
             0.3333333333333333,
             "#9c179e"
            ],
            [
             0.4444444444444444,
             "#bd3786"
            ],
            [
             0.5555555555555556,
             "#d8576b"
            ],
            [
             0.6666666666666666,
             "#ed7953"
            ],
            [
             0.7777777777777778,
             "#fb9f3a"
            ],
            [
             0.8888888888888888,
             "#fdca26"
            ],
            [
             1,
             "#f0f921"
            ]
           ],
           "sequentialminus": [
            [
             0,
             "#0d0887"
            ],
            [
             0.1111111111111111,
             "#46039f"
            ],
            [
             0.2222222222222222,
             "#7201a8"
            ],
            [
             0.3333333333333333,
             "#9c179e"
            ],
            [
             0.4444444444444444,
             "#bd3786"
            ],
            [
             0.5555555555555556,
             "#d8576b"
            ],
            [
             0.6666666666666666,
             "#ed7953"
            ],
            [
             0.7777777777777778,
             "#fb9f3a"
            ],
            [
             0.8888888888888888,
             "#fdca26"
            ],
            [
             1,
             "#f0f921"
            ]
           ]
          },
          "colorway": [
           "#636efa",
           "#EF553B",
           "#00cc96",
           "#ab63fa",
           "#FFA15A",
           "#19d3f3",
           "#FF6692",
           "#B6E880",
           "#FF97FF",
           "#FECB52"
          ],
          "font": {
           "color": "#2a3f5f"
          },
          "geo": {
           "bgcolor": "white",
           "lakecolor": "white",
           "landcolor": "#E5ECF6",
           "showlakes": true,
           "showland": true,
           "subunitcolor": "white"
          },
          "hoverlabel": {
           "align": "left"
          },
          "hovermode": "closest",
          "mapbox": {
           "style": "light"
          },
          "paper_bgcolor": "white",
          "plot_bgcolor": "#E5ECF6",
          "polar": {
           "angularaxis": {
            "gridcolor": "white",
            "linecolor": "white",
            "ticks": ""
           },
           "bgcolor": "#E5ECF6",
           "radialaxis": {
            "gridcolor": "white",
            "linecolor": "white",
            "ticks": ""
           }
          },
          "scene": {
           "xaxis": {
            "backgroundcolor": "#E5ECF6",
            "gridcolor": "white",
            "gridwidth": 2,
            "linecolor": "white",
            "showbackground": true,
            "ticks": "",
            "zerolinecolor": "white"
           },
           "yaxis": {
            "backgroundcolor": "#E5ECF6",
            "gridcolor": "white",
            "gridwidth": 2,
            "linecolor": "white",
            "showbackground": true,
            "ticks": "",
            "zerolinecolor": "white"
           },
           "zaxis": {
            "backgroundcolor": "#E5ECF6",
            "gridcolor": "white",
            "gridwidth": 2,
            "linecolor": "white",
            "showbackground": true,
            "ticks": "",
            "zerolinecolor": "white"
           }
          },
          "shapedefaults": {
           "line": {
            "color": "#2a3f5f"
           }
          },
          "ternary": {
           "aaxis": {
            "gridcolor": "white",
            "linecolor": "white",
            "ticks": ""
           },
           "baxis": {
            "gridcolor": "white",
            "linecolor": "white",
            "ticks": ""
           },
           "bgcolor": "#E5ECF6",
           "caxis": {
            "gridcolor": "white",
            "linecolor": "white",
            "ticks": ""
           }
          },
          "title": {
           "x": 0.05
          },
          "xaxis": {
           "automargin": true,
           "gridcolor": "white",
           "linecolor": "white",
           "ticks": "",
           "title": {
            "standoff": 15
           },
           "zerolinecolor": "white",
           "zerolinewidth": 2
          },
          "yaxis": {
           "automargin": true,
           "gridcolor": "white",
           "linecolor": "white",
           "ticks": "",
           "title": {
            "standoff": 15
           },
           "zerolinecolor": "white",
           "zerolinewidth": 2
          }
         }
        },
        "xaxis": {
         "autorange": true,
         "range": [
          -0.6334867018292,
          10.6334867018292
         ],
         "type": "multicategory"
        },
        "yaxis": {
         "autorange": true,
         "range": [
          6352.043842500001,
          51135.2972675
         ],
         "title": {
          "text": "Price"
         },
         "type": "linear"
        }
       }
      },
      "image/png": "[encoded data removed]",
      "text/html": [
       "<div>                            <div id=\"0269da18-7f58-4300-ad79-62bab6cfe9b6\" class=\"plotly-graph-div\" style=\"height:525px; width:100%;\"></div>            <script type=\"text/javascript\">                require([\"plotly\"], function(Plotly) {                    window.PLOTLYENV=window.PLOTLYENV || {};                                    if (document.getElementById(\"0269da18-7f58-4300-ad79-62bab6cfe9b6\")) {                    Plotly.newPlot(                        \"0269da18-7f58-4300-ad79-62bab6cfe9b6\",                        [{\"marker\":{\"color\":1,\"size\":10},\"mode\":\"markers\",\"name\":\"actual\",\"type\":\"scatter\",\"x\":[[0.5114092231042691,-1.8023944979167408,-0.5560624444052118,1.2031416963888868,0.49850651982507665,0.5274104732546615,0.056736383943495394,0.5562789354915941,0.5735203743850001,-1.454743644003108,0.6176109608556767],[0.26150752673875205,0.4548098265771216,0.3633703685547681,1.2031416963888868,0.49850651982507665,0.5274104732546615,0.6902926713125284,0.5562789354915941,0.5735203743850001,-1.454743644003108,-1.6191422487297469],[0.19887950024363224,0.4548098265771216,1.742519587994738,-0.6750259970678912,1.439349810762545,-0.9148957189111482,-1.1198681497418521,0.5562789354915941,-1.7436172186076642,-1.454743644003108,-1.6191422487297469],[-0.7328497360346414,-1.0499930564187867,1.512661384754743,1.2031416963888868,0.49850651982507665,1.9697166654204712,1.4143569997342804,0.5562789354915941,0.5735203743850001,0.687406337276194,0.6176109608556767],[0.3343904347652365,-0.2975916149208325,-0.6709915460252093,-0.3272171649462656,-1.3831800620498602,-0.9148957189111482,-0.7578359855309758,-1.7976592967991518,0.5735203743850001,0.687406337276194,0.6176109608556767],[0.045910850734109575,1.2072112680750757,-1.4754952573651918,-1.7184524934327678,0.49850651982507665,-0.9148957189111482,-0.938852067636414,0.5562789354915941,0.5735203743850001,-1.454743644003108,0.6176109608556767],[0.9833779373930278,0.4548098265771216,1.742519587994738,-1.857576026281418,1.439349810762545,-0.9148957189111482,-1.1198681497418521,0.5562789354915941,-1.7436172186076642,-1.454743644003108,-1.6191422487297469],[1.762504769930756,1.2072112680750757,-1.2456370541251969,-1.6488907270084427,1.439349810762545,-0.9148957189111482,-0.667327944478257,0.5562789354915941,0.5735203743850001,0.687406337276194,0.6176109608556767],[-1.6386976046385187,1.2072112680750757,-1.3605661557451942,0.5770857985699608,1.439349810762545,-0.9148957189111482,-0.667327944478257,0.5562789354915941,0.5735203743850001,0.687406337276194,0.6176109608556767],[1.435081052465042,-1.0499930564187867,1.512661384754743,1.2031416963888868,0.49850651982507665,1.9697166654204712,1.4143569997342804,0.5562789354915941,0.5735203743850001,-1.454743644003108,0.6176109608556767],[0.7818206825325155,1.9596127095730298,0.5932285717947631,0.716209331418611,-1.3831800620498602,-0.9148957189111482,-0.7578359855309758,-1.7976592967991518,-1.7436172186076642,0.687406337276194,0.6176109608556767],[-0.22108231485034857,-0.2975916149208325,1.1678740798947507,0.09015343359968503,-1.3831800620498602,0.5274104732546615,0.6902926713125284,-1.7976592967991518,0.5735203743850001,-1.454743644003108,0.6176109608556767],[0.4305909900832763,-1.8023944979167408,0.8230867750347581,-1.3706436613111423,0.49850651982507665,0.5274104732546615,0.5092765892070905,0.5562789354915941,0.5735203743850001,0.687406337276194,0.6176109608556767],[-1.4537434913049778,1.2072112680750757,-1.3605661557451942,-1.5097671941597925,0.49850651982507665,-0.9148957189111482,-0.667327944478257,0.5562789354915941,0.5735203743850001,-1.454743644003108,0.6176109608556767],[-0.293110649415886,1.2072112680750757,-1.7053534606051868,0.5770857985699608,1.439349810762545,-0.9148957189111482,-0.48631186237281887,0.5562789354915941,0.5735203743850001,-1.454743644003108,0.6176109608556767],[0.3424478416827373,0.4548098265771216,0.3633703685547681,1.2031416963888868,0.49850651982507665,0.5274104732546615,0.6902926713125284,0.5562789354915941,0.5735203743850001,-1.454743644003108,-1.6191422487297469],[0.3640563420523985,1.2072112680750757,-1.4754952573651918,-1.7184524934327678,0.49850651982507665,-0.9148957189111482,-0.938852067636414,0.5562789354915941,0.5735203743850001,0.687406337276194,0.6176109608556767],[-1.0697958434937656,0.4548098265771216,-1.0157788508852017,0.8553328642672612,0.49850651982507665,0.5274104732546615,0.6902926713125284,0.5562789354915941,0.5735203743850001,-1.454743644003108,0.6176109608556767],[-0.304586350177175,-0.2975916149208325,1.1678740798947507,0.09015343359968503,-1.3831800620498602,0.5274104732546615,0.6902926713125284,-1.7976592967991518,0.5735203743850001,0.687406337276194,0.6176109608556767],[0.22659209676291528,0.4548098265771216,1.742519587994738,1.342265229237537,1.439349810762545,-0.9148957189111482,-1.1198681497418521,0.5562789354915941,-1.7436172186076642,-1.454743644003108,-1.6191422487297469]],\"y\":[14862.09387,15979.01484,15802.65286,45061.95194,12630.77503,25618.28188,15174.34661,26012.37462,33005.77996,39072.39205,13811.15502,20676.16551,19774.24907,32746.13139,25959.12203,16256.23617,24852.49528,21607.77257,21233.91136,14398.92269]},{\"marker\":{\"color\":3,\"size\":10},\"mode\":\"markers\",\"name\":\"predictions\",\"type\":\"scatter\",\"x\":[[0.5114092231042691,-1.8023944979167408,-0.5560624444052118,1.2031416963888868,0.49850651982507665,0.5274104732546615,0.056736383943495394,0.5562789354915941,0.5735203743850001,-1.454743644003108,0.6176109608556767],[0.26150752673875205,0.4548098265771216,0.3633703685547681,1.2031416963888868,0.49850651982507665,0.5274104732546615,0.6902926713125284,0.5562789354915941,0.5735203743850001,-1.454743644003108,-1.6191422487297469],[0.19887950024363224,0.4548098265771216,1.742519587994738,-0.6750259970678912,1.439349810762545,-0.9148957189111482,-1.1198681497418521,0.5562789354915941,-1.7436172186076642,-1.454743644003108,-1.6191422487297469],[-0.7328497360346414,-1.0499930564187867,1.512661384754743,1.2031416963888868,0.49850651982507665,1.9697166654204712,1.4143569997342804,0.5562789354915941,0.5735203743850001,0.687406337276194,0.6176109608556767],[0.3343904347652365,-0.2975916149208325,-0.6709915460252093,-0.3272171649462656,-1.3831800620498602,-0.9148957189111482,-0.7578359855309758,-1.7976592967991518,0.5735203743850001,0.687406337276194,0.6176109608556767],[0.045910850734109575,1.2072112680750757,-1.4754952573651918,-1.7184524934327678,0.49850651982507665,-0.9148957189111482,-0.938852067636414,0.5562789354915941,0.5735203743850001,-1.454743644003108,0.6176109608556767],[0.9833779373930278,0.4548098265771216,1.742519587994738,-1.857576026281418,1.439349810762545,-0.9148957189111482,-1.1198681497418521,0.5562789354915941,-1.7436172186076642,-1.454743644003108,-1.6191422487297469],[1.762504769930756,1.2072112680750757,-1.2456370541251969,-1.6488907270084427,1.439349810762545,-0.9148957189111482,-0.667327944478257,0.5562789354915941,0.5735203743850001,0.687406337276194,0.6176109608556767],[-1.6386976046385187,1.2072112680750757,-1.3605661557451942,0.5770857985699608,1.439349810762545,-0.9148957189111482,-0.667327944478257,0.5562789354915941,0.5735203743850001,0.687406337276194,0.6176109608556767],[1.435081052465042,-1.0499930564187867,1.512661384754743,1.2031416963888868,0.49850651982507665,1.9697166654204712,1.4143569997342804,0.5562789354915941,0.5735203743850001,-1.454743644003108,0.6176109608556767],[0.7818206825325155,1.9596127095730298,0.5932285717947631,0.716209331418611,-1.3831800620498602,-0.9148957189111482,-0.7578359855309758,-1.7976592967991518,-1.7436172186076642,0.687406337276194,0.6176109608556767],[-0.22108231485034857,-0.2975916149208325,1.1678740798947507,0.09015343359968503,-1.3831800620498602,0.5274104732546615,0.6902926713125284,-1.7976592967991518,0.5735203743850001,-1.454743644003108,0.6176109608556767],[0.4305909900832763,-1.8023944979167408,0.8230867750347581,-1.3706436613111423,0.49850651982507665,0.5274104732546615,0.5092765892070905,0.5562789354915941,0.5735203743850001,0.687406337276194,0.6176109608556767],[-1.4537434913049778,1.2072112680750757,-1.3605661557451942,-1.5097671941597925,0.49850651982507665,-0.9148957189111482,-0.667327944478257,0.5562789354915941,0.5735203743850001,-1.454743644003108,0.6176109608556767],[-0.293110649415886,1.2072112680750757,-1.7053534606051868,0.5770857985699608,1.439349810762545,-0.9148957189111482,-0.48631186237281887,0.5562789354915941,0.5735203743850001,-1.454743644003108,0.6176109608556767],[0.3424478416827373,0.4548098265771216,0.3633703685547681,1.2031416963888868,0.49850651982507665,0.5274104732546615,0.6902926713125284,0.5562789354915941,0.5735203743850001,-1.454743644003108,-1.6191422487297469],[0.3640563420523985,1.2072112680750757,-1.4754952573651918,-1.7184524934327678,0.49850651982507665,-0.9148957189111482,-0.938852067636414,0.5562789354915941,0.5735203743850001,0.687406337276194,0.6176109608556767],[-1.0697958434937656,0.4548098265771216,-1.0157788508852017,0.8553328642672612,0.49850651982507665,0.5274104732546615,0.6902926713125284,0.5562789354915941,0.5735203743850001,-1.454743644003108,0.6176109608556767],[-0.304586350177175,-0.2975916149208325,1.1678740798947507,0.09015343359968503,-1.3831800620498602,0.5274104732546615,0.6902926713125284,-1.7976592967991518,0.5735203743850001,0.687406337276194,0.6176109608556767],[0.22659209676291528,0.4548098265771216,1.742519587994738,1.342265229237537,1.439349810762545,-0.9148957189111482,-1.1198681497418521,0.5562789354915941,-1.7436172186076642,-1.454743644003108,-1.6191422487297469]],\"y\":[15048.04218,16644.08787,15589.78048,44205.87588,12425.38917,27060.13756,15086.89959,27788.81324,30661.26015,38208.50102,13825.15471,20537.14172,19344.16554,33183.3326,27280.98206,16644.08787,25148.37919,23102.02237,20537.14172,14909.05099]}],                        {\"template\":{\"data\":{\"bar\":[{\"error_x\":{\"color\":\"#2a3f5f\"},\"error_y\":{\"color\":\"#2a3f5f\"},\"marker\":{\"line\":{\"color\":\"#E5ECF6\",\"width\":0.5},\"pattern\":{\"fillmode\":\"overlay\",\"size\":10,\"solidity\":0.2}},\"type\":\"bar\"}],\"barpolar\":[{\"marker\":{\"line\":{\"color\":\"#E5ECF6\",\"width\":0.5},\"pattern\":{\"fillmode\":\"overlay\",\"size\":10,\"solidity\":0.2}},\"type\":\"barpolar\"}],\"carpet\":[{\"aaxis\":{\"endlinecolor\":\"#2a3f5f\",\"gridcolor\":\"white\",\"linecolor\":\"white\",\"minorgridcolor\":\"white\",\"startlinecolor\":\"#2a3f5f\"},\"baxis\":{\"endlinecolor\":\"#2a3f5f\",\"gridcolor\":\"white\",\"linecolor\":\"white\",\"minorgridcolor\":\"white\",\"startlinecolor\":\"#2a3f5f\"},\"type\":\"carpet\"}],\"choropleth\":[{\"colorbar\":{\"outlinewidth\":0,\"ticks\":\"\"},\"type\":\"choropleth\"}],\"contour\":[{\"colorbar\":{\"outlinewidth\":0,\"ticks\":\"\"},\"colorscale\":[[0.0,\"#0d0887\"],[0.1111111111111111,\"#46039f\"],[0.2222222222222222,\"#7201a8\"],[0.3333333333333333,\"#9c179e\"],[0.4444444444444444,\"#bd3786\"],[0.5555555555555556,\"#d8576b\"],[0.6666666666666666,\"#ed7953\"],[0.7777777777777778,\"#fb9f3a\"],[0.8888888888888888,\"#fdca26\"],[1.0,\"#f0f921\"]],\"type\":\"contour\"}],\"contourcarpet\":[{\"colorbar\":{\"outlinewidth\":0,\"ticks\":\"\"},\"type\":\"contourcarpet\"}],\"heatmap\":[{\"colorbar\":{\"outlinewidth\":0,\"ticks\":\"\"},\"colorscale\":[[0.0,\"#0d0887\"],[0.1111111111111111,\"#46039f\"],[0.2222222222222222,\"#7201a8\"],[0.3333333333333333,\"#9c179e\"],[0.4444444444444444,\"#bd3786\"],[0.5555555555555556,\"#d8576b\"],[0.6666666666666666,\"#ed7953\"],[0.7777777777777778,\"#fb9f3a\"],[0.8888888888888888,\"#fdca26\"],[1.0,\"#f0f921\"]],\"type\":\"heatmap\"}],\"heatmapgl\":[{\"colorbar\":{\"outlinewidth\":0,\"ticks\":\"\"},\"colorscale\":[[0.0,\"#0d0887\"],[0.1111111111111111,\"#46039f\"],[0.2222222222222222,\"#7201a8\"],[0.3333333333333333,\"#9c179e\"],[0.4444444444444444,\"#bd3786\"],[0.5555555555555556,\"#d8576b\"],[0.6666666666666666,\"#ed7953\"],[0.7777777777777778,\"#fb9f3a\"],[0.8888888888888888,\"#fdca26\"],[1.0,\"#f0f921\"]],\"type\":\"heatmapgl\"}],\"histogram\":[{\"marker\":{\"pattern\":{\"fillmode\":\"overlay\",\"size\":10,\"solidity\":0.2}},\"type\":\"histogram\"}],\"histogram2d\":[{\"colorbar\":{\"outlinewidth\":0,\"ticks\":\"\"},\"colorscale\":[[0.0,\"#0d0887\"],[0.1111111111111111,\"#46039f\"],[0.2222222222222222,\"#7201a8\"],[0.3333333333333333,\"#9c179e\"],[0.4444444444444444,\"#bd3786\"],[0.5555555555555556,\"#d8576b\"],[0.6666666666666666,\"#ed7953\"],[0.7777777777777778,\"#fb9f3a\"],[0.8888888888888888,\"#fdca26\"],[1.0,\"#f0f921\"]],\"type\":\"histogram2d\"}],\"histogram2dcontour\":[{\"colorbar\":{\"outlinewidth\":0,\"ticks\":\"\"},\"colorscale\":[[0.0,\"#0d0887\"],[0.1111111111111111,\"#46039f\"],[0.2222222222222222,\"#7201a8\"],[0.3333333333333333,\"#9c179e\"],[0.4444444444444444,\"#bd3786\"],[0.5555555555555556,\"#d8576b\"],[0.6666666666666666,\"#ed7953\"],[0.7777777777777778,\"#fb9f3a\"],[0.8888888888888888,\"#fdca26\"],[1.0,\"#f0f921\"]],\"type\":\"histogram2dcontour\"}],\"mesh3d\":[{\"colorbar\":{\"outlinewidth\":0,\"ticks\":\"\"},\"type\":\"mesh3d\"}],\"parcoords\":[{\"line\":{\"colorbar\":{\"outlinewidth\":0,\"ticks\":\"\"}},\"type\":\"parcoords\"}],\"pie\":[{\"automargin\":true,\"type\":\"pie\"}],\"scatter\":[{\"marker\":{\"colorbar\":{\"outlinewidth\":0,\"ticks\":\"\"}},\"type\":\"scatter\"}],\"scatter3d\":[{\"line\":{\"colorbar\":{\"outlinewidth\":0,\"ticks\":\"\"}},\"marker\":{\"colorbar\":{\"outlinewidth\":0,\"ticks\":\"\"}},\"type\":\"scatter3d\"}],\"scattercarpet\":[{\"marker\":{\"colorbar\":{\"outlinewidth\":0,\"ticks\":\"\"}},\"type\":\"scattercarpet\"}],\"scattergeo\":[{\"marker\":{\"colorbar\":{\"outlinewidth\":0,\"ticks\":\"\"}},\"type\":\"scattergeo\"}],\"scattergl\":[{\"marker\":{\"colorbar\":{\"outlinewidth\":0,\"ticks\":\"\"}},\"type\":\"scattergl\"}],\"scattermapbox\":[{\"marker\":{\"colorbar\":{\"outlinewidth\":0,\"ticks\":\"\"}},\"type\":\"scattermapbox\"}],\"scatterpolar\":[{\"marker\":{\"colorbar\":{\"outlinewidth\":0,\"ticks\":\"\"}},\"type\":\"scatterpolar\"}],\"scatterpolargl\":[{\"marker\":{\"colorbar\":{\"outlinewidth\":0,\"ticks\":\"\"}},\"type\":\"scatterpolargl\"}],\"scatterternary\":[{\"marker\":{\"colorbar\":{\"outlinewidth\":0,\"ticks\":\"\"}},\"type\":\"scatterternary\"}],\"surface\":[{\"colorbar\":{\"outlinewidth\":0,\"ticks\":\"\"},\"colorscale\":[[0.0,\"#0d0887\"],[0.1111111111111111,\"#46039f\"],[0.2222222222222222,\"#7201a8\"],[0.3333333333333333,\"#9c179e\"],[0.4444444444444444,\"#bd3786\"],[0.5555555555555556,\"#d8576b\"],[0.6666666666666666,\"#ed7953\"],[0.7777777777777778,\"#fb9f3a\"],[0.8888888888888888,\"#fdca26\"],[1.0,\"#f0f921\"]],\"type\":\"surface\"}],\"table\":[{\"cells\":{\"fill\":{\"color\":\"#EBF0F8\"},\"line\":{\"color\":\"white\"}},\"header\":{\"fill\":{\"color\":\"#C8D4E3\"},\"line\":{\"color\":\"white\"}},\"type\":\"table\"}]},\"layout\":{\"annotationdefaults\":{\"arrowcolor\":\"#2a3f5f\",\"arrowhead\":0,\"arrowwidth\":1},\"autotypenumbers\":\"strict\",\"coloraxis\":{\"colorbar\":{\"outlinewidth\":0,\"ticks\":\"\"}},\"colorscale\":{\"diverging\":[[0,\"#8e0152\"],[0.1,\"#c51b7d\"],[0.2,\"#de77ae\"],[0.3,\"#f1b6da\"],[0.4,\"#fde0ef\"],[0.5,\"#f7f7f7\"],[0.6,\"#e6f5d0\"],[0.7,\"#b8e186\"],[0.8,\"#7fbc41\"],[0.9,\"#4d9221\"],[1,\"#276419\"]],\"sequential\":[[0.0,\"#0d0887\"],[0.1111111111111111,\"#46039f\"],[0.2222222222222222,\"#7201a8\"],[0.3333333333333333,\"#9c179e\"],[0.4444444444444444,\"#bd3786\"],[0.5555555555555556,\"#d8576b\"],[0.6666666666666666,\"#ed7953\"],[0.7777777777777778,\"#fb9f3a\"],[0.8888888888888888,\"#fdca26\"],[1.0,\"#f0f921\"]],\"sequentialminus\":[[0.0,\"#0d0887\"],[0.1111111111111111,\"#46039f\"],[0.2222222222222222,\"#7201a8\"],[0.3333333333333333,\"#9c179e\"],[0.4444444444444444,\"#bd3786\"],[0.5555555555555556,\"#d8576b\"],[0.6666666666666666,\"#ed7953\"],[0.7777777777777778,\"#fb9f3a\"],[0.8888888888888888,\"#fdca26\"],[1.0,\"#f0f921\"]]},\"colorway\":[\"#636efa\",\"#EF553B\",\"#00cc96\",\"#ab63fa\",\"#FFA15A\",\"#19d3f3\",\"#FF6692\",\"#B6E880\",\"#FF97FF\",\"#FECB52\"],\"font\":{\"color\":\"#2a3f5f\"},\"geo\":{\"bgcolor\":\"white\",\"lakecolor\":\"white\",\"landcolor\":\"#E5ECF6\",\"showlakes\":true,\"showland\":true,\"subunitcolor\":\"white\"},\"hoverlabel\":{\"align\":\"left\"},\"hovermode\":\"closest\",\"mapbox\":{\"style\":\"light\"},\"paper_bgcolor\":\"white\",\"plot_bgcolor\":\"#E5ECF6\",\"polar\":{\"angularaxis\":{\"gridcolor\":\"white\",\"linecolor\":\"white\",\"ticks\":\"\"},\"bgcolor\":\"#E5ECF6\",\"radialaxis\":{\"gridcolor\":\"white\",\"linecolor\":\"white\",\"ticks\":\"\"}},\"scene\":{\"xaxis\":{\"backgroundcolor\":\"#E5ECF6\",\"gridcolor\":\"white\",\"gridwidth\":2,\"linecolor\":\"white\",\"showbackground\":true,\"ticks\":\"\",\"zerolinecolor\":\"white\"},\"yaxis\":{\"backgroundcolor\":\"#E5ECF6\",\"gridcolor\":\"white\",\"gridwidth\":2,\"linecolor\":\"white\",\"showbackground\":true,\"ticks\":\"\",\"zerolinecolor\":\"white\"},\"zaxis\":{\"backgroundcolor\":\"#E5ECF6\",\"gridcolor\":\"white\",\"gridwidth\":2,\"linecolor\":\"white\",\"showbackground\":true,\"ticks\":\"\",\"zerolinecolor\":\"white\"}},\"shapedefaults\":{\"line\":{\"color\":\"#2a3f5f\"}},\"ternary\":{\"aaxis\":{\"gridcolor\":\"white\",\"linecolor\":\"white\",\"ticks\":\"\"},\"baxis\":{\"gridcolor\":\"white\",\"linecolor\":\"white\",\"ticks\":\"\"},\"bgcolor\":\"#E5ECF6\",\"caxis\":{\"gridcolor\":\"white\",\"linecolor\":\"white\",\"ticks\":\"\"}},\"title\":{\"x\":0.05},\"xaxis\":{\"automargin\":true,\"gridcolor\":\"white\",\"linecolor\":\"white\",\"ticks\":\"\",\"title\":{\"standoff\":15},\"zerolinecolor\":\"white\",\"zerolinewidth\":2},\"yaxis\":{\"automargin\":true,\"gridcolor\":\"white\",\"linecolor\":\"white\",\"ticks\":\"\",\"title\":{\"standoff\":15},\"zerolinecolor\":\"white\",\"zerolinewidth\":2}}},\"yaxis\":{\"title\":{\"text\":\"Price\"}}},                        {\"responsive\": true}                    ).then(function(){\n",
       "                            \n",
       "var gd = document.getElementById('0269da18-7f58-4300-ad79-62bab6cfe9b6');\n",
       "var x = new MutationObserver(function (mutations, observer) {{\n",
       "        var display = window.getComputedStyle(gd).display;\n",
       "        if (!display || display === 'none') {{\n",
       "            console.log([gd, 'removed!']);\n",
       "            Plotly.purge(gd);\n",
       "            observer.disconnect();\n",
       "        }}\n",
       "}});\n",
       "\n",
       "// Listen for the removal of the full notebook cells\n",
       "var notebookContainer = gd.closest('#notebook-container');\n",
       "if (notebookContainer) {{\n",
       "    x.observe(notebookContainer, {childList: true});\n",
       "}}\n",
       "\n",
       "// Listen for the clearing of the current output cell\n",
       "var outputEl = gd.closest('.output');\n",
       "if (outputEl) {{\n",
       "    x.observe(outputEl, {childList: true});\n",
       "}}\n",
       "\n",
       "                        })                };                });            </script>        </div>"
      ]
     },
     "metadata": {},
     "output_type": "display_data"
    }
   ],
   "source": [
    "fig = go.Figure()\n",
    "count = 20\n",
    "fig.add_trace(go.Scatter(x = X_test[:count], y = y_test[:count], mode = 'markers', name = 'actual', marker=dict(size=10,color=1)))\n",
    "fig.add_trace(go.Scatter(x = X_test[:count], y = yhat[:count], mode = 'markers', name = 'predictions', marker=dict(size=10,color=3)))\n",
    "fig.update_layout( yaxis_title = 'Price')"
   ]
  },
  {
   "cell_type": "code",
   "execution_count": null,
   "metadata": {},
   "outputs": [],
   "source": []
  }
 ],
 "metadata": {
  "kernelspec": {
   "display_name": "Python 3",
   "language": "python",
   "name": "python3"
  },
  "language_info": {
   "codemirror_mode": {
    "name": "ipython",
    "version": 3
   },
   "file_extension": ".py",
   "mimetype": "text/x-python",
   "name": "python",
   "nbconvert_exporter": "python",
   "pygments_lexer": "ipython3",
   "version": "3.7.6"
  }
 },
 "nbformat": 4,
 "nbformat_minor": 5
}
